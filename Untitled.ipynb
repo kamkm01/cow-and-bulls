{
 "cells": [
  {
   "cell_type": "markdown",
   "metadata": {},
   "source": [
    "## cow and bulls"
   ]
  },
  {
   "cell_type": "code",
   "execution_count": 2,
   "metadata": {},
   "outputs": [],
   "source": [
    "import random as r"
   ]
  },
  {
   "cell_type": "code",
   "execution_count": 37,
   "metadata": {},
   "outputs": [
    {
     "name": "stdout",
     "output_type": "stream",
     "text": [
      "[9, 4, 3, 3]\n"
     ]
    }
   ],
   "source": [
    "num = []\n",
    "p = 4\n",
    "for x in range(p):\n",
    "    rn = r.randint(0,9)\n",
    "    num.append(rn)\n",
    "print(num)"
   ]
  },
  {
   "cell_type": "code",
   "execution_count": 38,
   "metadata": {},
   "outputs": [
    {
     "name": "stdout",
     "output_type": "stream",
     "text": [
      "9 4 3 3\n"
     ]
    }
   ],
   "source": [
    "print(num[0],num[1],num[2],num[3])"
   ]
  },
  {
   "cell_type": "code",
   "execution_count": 39,
   "metadata": {},
   "outputs": [
    {
     "name": "stdin",
     "output_type": "stream",
     "text": [
      "guess :  1233\n"
     ]
    },
    {
     "name": "stdout",
     "output_type": "stream",
     "text": [
      "[1, 2, 3, 3]\n"
     ]
    }
   ],
   "source": [
    "ua = input('guess : ')\n",
    "UA = []\n",
    "UA.extend(ua)\n",
    "for z in range(p):\n",
    "    UA[z] = int(UA[z])\n",
    "print(UA)"
   ]
  },
  {
   "cell_type": "code",
   "execution_count": 40,
   "metadata": {},
   "outputs": [
    {
     "name": "stdout",
     "output_type": "stream",
     "text": [
      "['bulls', 'bulls']\n"
     ]
    }
   ],
   "source": [
    "rs = []\n",
    "for x in UA:\n",
    "    if x in num:\n",
    "        if UA.index(x) == num.index(x):\n",
    "            rs.append('bulls')\n",
    "        else:\n",
    "            rs.append('cow')\n",
    "print(rs)"
   ]
  },
  {
   "cell_type": "code",
   "execution_count": 41,
   "metadata": {},
   "outputs": [
    {
     "name": "stdout",
     "output_type": "stream",
     "text": [
      "cow : 0,bulls : 2\n"
     ]
    }
   ],
   "source": [
    "C = rs.count('cow')\n",
    "B = rs.count('bulls')\n",
    "print('cow : {},bulls : {}'.format(C,B))"
   ]
  },
  {
   "cell_type": "code",
   "execution_count": null,
   "metadata": {},
   "outputs": [],
   "source": []
  }
 ],
 "metadata": {
  "kernelspec": {
   "display_name": "Python 3",
   "language": "python",
   "name": "python3"
  },
  "language_info": {
   "codemirror_mode": {
    "name": "ipython",
    "version": 3
   },
   "file_extension": ".py",
   "mimetype": "text/x-python",
   "name": "python",
   "nbconvert_exporter": "python",
   "pygments_lexer": "ipython3",
   "version": "3.7.3"
  }
 },
 "nbformat": 4,
 "nbformat_minor": 2
}
